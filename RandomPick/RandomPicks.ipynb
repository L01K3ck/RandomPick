{
 "cells": [
  {
   "cell_type": "code",
   "execution_count": 7,
   "id": "405fb58b-d586-4557-a9ed-483284577ff3",
   "metadata": {},
   "outputs": [
    {
     "name": "stdout",
     "output_type": "stream",
     "text": [
      "[6 6 6 7 7 7 7 7 7]\n",
      "[6 6 7 7 6]\n",
      "[6 6 6 7 6]\n"
     ]
    }
   ],
   "source": [
    "import numpy as np\n",
    "a = np.array([6, 6, 6, 7, 7, 7, 7, 7, 7])\n",
    "print(a)\n",
    "print(a[np.random.randint(len(a), size=5)])\n",
    "print(np.random.randint(6, 8, 5))"
   ]
  },
  {
   "cell_type": "markdown",
   "id": "6c2c6234-6a86-4106-9ed5-cf135eac437d",
   "metadata": {},
   "source": [
    "# Задание 1"
   ]
  },
  {
   "cell_type": "markdown",
   "id": "1c5567c7-b96d-400e-81af-93330c7d9d94",
   "metadata": {},
   "source": [
    "В первом случае массив задан вручную, второй массив сгенерирован на основе длины первого, третий массив сгенерирован с заданными тремя параметрами "
   ]
  },
  {
   "cell_type": "markdown",
   "id": "c375267c-d5db-4170-a529-2fa91bf58edf",
   "metadata": {},
   "source": [
    "# Задание 2"
   ]
  },
  {
   "cell_type": "code",
   "execution_count": 9,
   "id": "c7ec2c3e-8695-4697-bd5c-2a22d7f4e4bb",
   "metadata": {},
   "outputs": [
    {
     "data": {
      "text/plain": [
       "array([3.5, 3.5, 1.5, 1.5, 1.5, 0.5, 1.5, 2.5, 1.5, 3.5])"
      ]
     },
     "execution_count": 9,
     "metadata": {},
     "output_type": "execute_result"
    }
   ],
   "source": [
    "a, b, n = 0.5, 3.5, 4\n",
    "a + (b-a) * (np.random.randint(1, n+1, size=10) - 1) / (n-1)\n"
   ]
  },
  {
   "cell_type": "markdown",
   "id": "67d5f14b-db8c-4f3b-b873-d6f4cfb7132d",
   "metadata": {},
   "source": [
    "# Задание 3"
   ]
  },
  {
   "cell_type": "code",
   "execution_count": 10,
   "id": "9478345f-3325-4bb8-b357-14220606f78e",
   "metadata": {},
   "outputs": [
    {
     "data": {
      "text/plain": [
       "([np.int64(7), np.int64(9), np.int64(10), np.int64(20), np.int64(26)], 5)"
      ]
     },
     "execution_count": 10,
     "metadata": {},
     "output_type": "execute_result"
    }
   ],
   "source": [
    "(sorted(np.random.choice(np.arange(1,76), 5, replace=False)),\\\n",
    "         np.random.randint(15)+1)"
   ]
  }
 ],
 "metadata": {
  "kernelspec": {
   "display_name": "Python 3 (ipykernel)",
   "language": "python",
   "name": "python3"
  },
  "language_info": {
   "codemirror_mode": {
    "name": "ipython",
    "version": 3
   },
   "file_extension": ".py",
   "mimetype": "text/x-python",
   "name": "python",
   "nbconvert_exporter": "python",
   "pygments_lexer": "ipython3",
   "version": "3.12.6"
  }
 },
 "nbformat": 4,
 "nbformat_minor": 5
}
